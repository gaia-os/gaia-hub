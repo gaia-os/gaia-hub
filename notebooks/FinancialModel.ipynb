{
 "cells": [
  {
   "attachments": {},
   "cell_type": "markdown",
   "metadata": {},
   "source": [
    "# Financial model\n",
    "\n",
    "### <u>Table of contents:</u>\n",
    "\n",
    "**1. How to use this notebook**<br/>\n",
    "**2. Background information**<br/>\n",
    "**3. Building a financial model**<br/>\n",
    "**4. Literature**<br/>\n"
   ]
  },
  {
   "attachments": {},
   "cell_type": "markdown",
   "metadata": {},
   "source": [
    "**1. How to use this notebook**\n",
    "\n",
    "This is a tool for aspiring and current GaiaHub contributors who want to see an example of how the Digital Gaia engine can be used to model financial aspects.\n",
    "\n",
    "In this notebook we will see how we used the engine to build a simple financial model of Roots & Culture's indoor hemp farm in Virginia. If you haven't seen the general model of the Roots and Culture Farm, you can take a look here: [Roots and Culture notebook](https://github.com/gaia-os/gaia-hub/blob/main/notebooks/LAB-roots-and-culture.ipynb).\n"
   ]
  },
  {
   "attachments": {},
   "cell_type": "markdown",
   "metadata": {},
   "source": [
    "**2. Backround information**\n",
    "\n",
    "**Roots & Culture (RC)** is an indoor hemp farm in Virginia, USA where high CBD hemp flowers are grown, harvested, then processed into extract which is infused into skincare products. Since 2018, they have been growing indoors because it offers control over all aspects of the environment, ensuring plants experience only the most favourable conditions during development. The result is an extremely clean, high-value extract which is perfect for dermatological applications.\n",
    "\n",
    "Again, if you haven't seen the general model of the Roots and Culture Farm, you can take a look here: [Roots and Culture notebook](https://github.com/gaia-os/gaia-hub/blob/main/notebooks/LAB-roots-and-culture.ipynb).\n",
    "\n",
    "For years, **RC** have been collecting detailed environmental data (temperature, relative humidity, light and more) from [Pulse sensors](https://pulsegrow.com/products/pulse-one?variant=48139205901) in all their facilities. In addition to this data, they performed soil tests in all rooms before and after each grow, and have been collecting standard agronomic statistics (planting rate, harvest weights, etc.). \n",
    "\n",
    "The grow cycle we will use for model demos is a cycle that ran from June 24, 2019 to October 14, 2019 and is  preconfigured in the `roots-indoor1.json` configuration file, you can also check it out on the roots and culture notebook."
   ]
  },
  {
   "attachments": {},
   "cell_type": "markdown",
   "metadata": {},
   "source": [
    "\n",
    "**3. Building a financial model**\n",
    "\n",
    "In order to build a financial model, we worked with data of the farm as well as with literature. On the first place we worked with data provided by the roots and culture farm, and we build a simple model containg elements of labor and energy cost. In order to to this we added some classes on the ontology: CropLocation (indicates if the crop is located in the indoor or in the germination tent) and DayHours (indicates the number of hours of daylight that the crop receives).\n",
    "In the roots_agent, we added parameters regarding energy and labor use and cost, as well as methods to calculate energy and labor costs. In addition, based on peer-reviewed literature, we add variables and methods intended to calculate the monetary cost of supplies as seeds and fertilizer. Finally, we use a variable to calculate the total monetary cost (seeds cost + fertilizer cost + energy cost + labor cost). This value will be modified as the financial model becomes more complex and includes new variables.\n",
    "\n",
    "Now that we've made our changes to the agent file, we can predict financial aspects and relate them to other variables.\n",
    "Here an example:"
   ]
  },
  {
   "cell_type": "code",
   "execution_count": null,
   "metadata": {},
   "outputs": [],
   "source": [
    "# Import required packages\n",
    "import os\n",
    "import sys\n",
    "import matplotlib.pyplot as plt\n",
    "import jax.numpy as jnp\n",
    "from numpyro.optim import optax_to_numpyro\n",
    "from numpyro.infer import Trace_ELBO\n",
    "import optax\n",
    "from numpyro import set_platform\n",
    "\n",
    "# Retrieve the fangorn directory (option 1)\n",
    "module_path = os.path.abspath(os.path.join('../fangorn/'))\n",
    "if module_path not in sys.path:\n",
    "    sys.path.append(module_path)\n",
    "    \n",
    "# # Retrieve the fangorn directory (option 2)\n",
    "# import digital_gaia.fangorn as fangorn\n",
    "# fangorn_dir = dirname(dirname(dirname(abspath(fangorn.__file__))))\n",
    "\n",
    "# Tell numpyro whether to use cpu or gpu\n",
    "use_gpu = False\n",
    "if use_gpu is True:\n",
    "    set_platform('gpu')\n",
    "else:\n",
    "    set_platform('cpu')\n",
    "    \n",
    "# Import required classes from the fangorn module\n",
    "from digital_gaia.fangorn.agents.AgentFactory import AgentFactory\n",
    "from digital_gaia.fangorn.assessment.DataLoader import DataLoader\n",
    "from digital_gaia.fangorn.kernels.impl.MCMCKernel import MCMCKernel\n",
    "from digital_gaia.fangorn.kernels.impl.SVIKernel import SVIKernel\n",
    "from digital_gaia.fangorn.visualisation.distributions import draw_beliefs\n",
    "from digital_gaia.fangorn.visualisation.distributions import compare_posteriors"
   ]
  },
  {
   "attachments": {},
   "cell_type": "markdown",
   "metadata": {},
   "source": [
    "**Load the configuration file and agent(s)**"
   ]
  },
  {
   "cell_type": "code",
   "execution_count": null,
   "metadata": {},
   "outputs": [],
   "source": [
    "# Load the configuration file corresponding to the Roots & Culture model\n",
    "data_loader = DataLoader('../fangorn/data/projects/Roots-and-Culture/roots-indoor1.json')"
   ]
  },
  {
   "cell_type": "code",
   "execution_count": null,
   "metadata": {},
   "outputs": [],
   "source": [
    "# Load the agents agent(s) compatible with the loaded data\n",
    "agents = AgentFactory.create(data_loader, verbose=True)\n",
    "\n",
    "# Get ordinary differential equations (ODE) and stochastic differential equations (SDE) agents\n",
    "ode_agent = next(filter(lambda a: a.name == \"Roots-and-Culture.roots-indoor1.Deterministic\", agents))"
   ]
  },
  {
   "cell_type": "code",
   "execution_count": null,
   "metadata": {},
   "outputs": [],
   "source": [
    "# Predict the future using the ODE and SDE agents\n",
    "ode_prediction_samples = ode_agent.predict(model=ode_agent.model, num_samples=1)"
   ]
  },
  {
   "attachments": {},
   "cell_type": "markdown",
   "metadata": {},
   "source": [
    "**Visualize the predictions**"
   ]
  },
  {
   "cell_type": "code",
   "execution_count": null,
   "metadata": {},
   "outputs": [],
   "source": [
    "# Draw prior beliefs using the predictive samples\n",
    "fig = draw_beliefs(\n",
    "        ode_prediction_samples,\n",
    "        var_1={\n",
    "            \"labor_monetary_cost\": \"Labor Monetary cost\",\n",
    "            \"total_monetary_cost\": \"Total Monetary cost\"\n",
    "        },\n",
    "        var_2={\n",
    "            \"energy_monetary_cost\": \"Energy Monetary cost\",\n",
    "            \"seeds_monetary_cost\": \"Seeds Monetary cost\"  \n",
    "        },\n",
    "        measured=[False, False],\n",
    "        fig_size=(16, 8.5)\n",
    "    )"
   ]
  },
  {
   "attachments": {},
   "cell_type": "markdown",
   "metadata": {},
   "source": [
    "The first graph shows the cumulative monetary cost of energy and labor. In both cases, a maximum value is reached when the harvest is reached and the cycle is completed. The cost of energy depends on the daylight hours and the location of the crop, while the cost of labor depends on the tasks performed each week. The second graph shows the total accumulated monetary cost, which in this case is simply the sum of the monetary cost of energy and labor. The cost of the fertilizer is not graphed because in this data set it was not fertilized at any time. The seed cost is constant (with a value of zero) because the seeds price data was not provided by the farm, so we left it fixed at zero, but if we had the value, an increased of seeds coat would be seen in the first week, which is the moment where the seeds were planted."
   ]
  },
  {
   "attachments": {},
   "cell_type": "markdown",
   "metadata": {},
   "source": [
    "**4. Literature**\n",
    "\n",
    "Finally here is some literature on financial models that was used to build the model and that may be helpful in expanding it:\n",
    "\n",
    "Eaves, J., & Eaves, S. (2018). Comparing the Profitability of a Greenhouse to a Vertical Farm in Quebec. Canadian Journal of Agricultural Economics/Revue canadienne d'agroeconomie, 66(1), 43-54.\n",
    "\n",
    "Maureira, F., Rajagopalan, K., & Stöckle, C. O. (2022). Evaluating tomato production in open-field and high-tech greenhouse systems. Journal of Cleaner Production, 337, 130459."
   ]
  }
 ],
 "metadata": {
  "kernelspec": {
   "display_name": "myenv",
   "language": "python",
   "name": "python3"
  },
  "language_info": {
   "codemirror_mode": {
    "name": "ipython",
    "version": 3
   },
   "file_extension": ".py",
   "mimetype": "text/x-python",
   "name": "python",
   "nbconvert_exporter": "python",
   "pygments_lexer": "ipython3",
   "version": "3.11.1"
  },
  "orig_nbformat": 4,
  "vscode": {
   "interpreter": {
    "hash": "103cc76884074abddb9ecef1c3668d003117ec392154c9710aa6f21375b3418a"
   }
  }
 },
 "nbformat": 4,
 "nbformat_minor": 2
}
